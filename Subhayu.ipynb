{
 "cells": [
  {
   "cell_type": "code",
   "execution_count": 1,
   "id": "2bed1b07-f663-4ba1-8ba8-6252c5add9e6",
   "metadata": {},
   "outputs": [],
   "source": [
    "import pandas as pd\n",
    "import numpy as np\n",
    "from sklearn.model_selection import train_test_split\n",
    "from sklearn.preprocessing import OneHotEncoder, StandardScaler\n",
    "from sklearn.linear_model import LogisticRegression\n",
    "from sklearn.multioutput import MultiOutputClassifier\n",
    "from sklearn.metrics import roc_auc_score\n",
    "\n",
    "train_features =pd.read_csv(r\"C:\\Users\\Pauld\\Downloads\\Traing set features.csv\")\n",
    "train_labels = pd.read_csv(r\"C:\\Users\\Pauld\\Downloads\\Training set labels.csv\")\n",
    "test_features = pd.read_csv(r\"C:\\Users\\Pauld\\Downloads\\Test set geatures.csv\")\n",
    "\n"
   ]
  },
  {
   "cell_type": "code",
   "execution_count": 2,
   "id": "afe371cd-c0c8-483c-83f5-39ca59f6e7dc",
   "metadata": {},
   "outputs": [],
   "source": [
    "# Ensure correct merge/join if required (e.g., on 'respondent_id')\n",
    "train_data = train_features.merge(train_labels, on='respondent_id')\n",
    "\n",
    "# Define features and labels\n",
    "X = train_data.drop(columns=['respondent_id', 'xyz_vaccine', 'seasonal_vaccine'])\n",
    "y = train_data[['xyz_vaccine', 'seasonal_vaccine']]\n",
    "X_test = test_features.drop(columns=['respondent_id'])\n",
    "\n",
    "# Split the data into training and validation sets\n",
    "X_train, X_val, y_train, y_val = train_test_split(X, y, test_size=0.2, random_state=42)\n",
    "\n"
   ]
  },
  {
   "cell_type": "code",
   "execution_count": 3,
   "id": "96faf283-d999-480b-b5ac-e4e6bc727d72",
   "metadata": {},
   "outputs": [],
   "source": [
    "# Identify categorical and numerical features\n",
    "categorical_features = [\n",
    "    'age_group', 'education', 'race', 'sex', 'income_poverty', 'marital_status',\n",
    "    'rent_or_own', 'employment_status', 'hhs_geo_region', 'census_msa',\n",
    "    'employment_industry', 'employment_occupation']\n",
    "\n",
    "numerical_features = [col for col in X_train.columns if col not in categorical_features]\n",
    "\n"
   ]
  },
  {
   "cell_type": "code",
   "execution_count": 4,
   "id": "17946269-f7cd-4a1f-8049-2888786c9900",
   "metadata": {},
   "outputs": [],
   "source": [
    "# Fill missing values for categorical and numerical features\n",
    "for column in categorical_features:\n",
    "    X_train[column].fillna(X_train[column].mode()[0], inplace=True)\n",
    "    X_val[column].fillna(X_val[column].mode()[0], inplace=True)\n",
    "    X_test[column].fillna(X_test[column].mode()[0], inplace=True)\n",
    "for column in numerical_features:\n",
    "    X_train[column].fillna(X_train[column].mean(), inplace=True)\n",
    "    X_val[column].fillna(X_val[column].mean(), inplace=True)\n",
    "    X_test[column].fillna(X_test[column].mean(), inplace=True)\n",
    "\n"
   ]
  },
  {
   "cell_type": "code",
   "execution_count": 5,
   "id": "e05b9add-5234-40e1-af68-78b2bf7afb9e",
   "metadata": {},
   "outputs": [],
   "source": [
    "# One-hot encode categorical features\n",
    "encoder = OneHotEncoder(sparse_output=False, drop='first')\n",
    "X_train_encoded = encoder.fit_transform(X_train[categorical_features])\n",
    "X_val_encoded = encoder.transform(X_val[categorical_features])\n",
    "X_test_encoded = encoder.transform(X_test[categorical_features])\n",
    "\n",
    "X_train_encoded_df = pd.DataFrame(X_train_encoded, columns=encoder.get_feature_names_out(categorical_features))\n",
    "X_val_encoded_df = pd.DataFrame(X_val_encoded, columns=encoder.get_feature_names_out(categorical_features))\n",
    "X_test_encoded_df = pd.DataFrame(X_test_encoded, columns=encoder.get_feature_names_out(categorical_features))\n",
    "\n"
   ]
  },
  {
   "cell_type": "code",
   "execution_count": 6,
   "id": "ad78000a-10f8-45e0-bb89-68c472b4462d",
   "metadata": {},
   "outputs": [],
   "source": [
    "# Drop original categorical columns and concatenate encoded columns\n",
    "X_train = X_train.drop(columns=categorical_features)\n",
    "X_val = X_val.drop(columns=categorical_features)\n",
    "X_test = X_test.drop(columns=categorical_features)\n",
    "\n",
    "X_train = pd.concat([X_train.reset_index(drop=True), X_train_encoded_df.reset_index(drop=True)], axis=1)\n",
    "X_val = pd.concat([X_val.reset_index(drop=True), X_val_encoded_df.reset_index(drop=True)], axis=1)\n",
    "X_test = pd.concat([X_test.reset_index(drop=True), X_test_encoded_df.reset_index(drop=True)], axis=1)\n",
    "\n"
   ]
  },
  {
   "cell_type": "code",
   "execution_count": 7,
   "id": "1db75623-b6e6-43d4-ae8a-e99c64ee1011",
   "metadata": {},
   "outputs": [],
   "source": [
    "# Standardize numerical features\n",
    "scaler = StandardScaler()\n",
    "X_train[numerical_features] = scaler.fit_transform(X_train[numerical_features])\n",
    "X_val[numerical_features] = scaler.transform(X_val[numerical_features])\n",
    "X_test[numerical_features] = scaler.transform(X_test[numerical_features])\n",
    "\n"
   ]
  },
  {
   "cell_type": "code",
   "execution_count": 8,
   "id": "d94ddbec-6ee4-4136-abe0-178123212c1d",
   "metadata": {},
   "outputs": [],
   "source": [
    "# Train the model\n",
    "model = MultiOutputClassifier(LogisticRegression(max_iter=1000))\n",
    "model.fit(X_train, y_train)\n",
    "\n",
    "# Predict probabilities on the validation set\n",
    "y_pred_proba_val = model.predict_proba(X_val)\n",
    "y_pred_proba_val_combined = np.hstack([y_pred_proba_val[i][:, 1].reshape(-1, 1) for i in range(len(y_pred_proba_val))])\n",
    "\n"
   ]
  },
  {
   "cell_type": "code",
   "execution_count": 9,
   "id": "d95fa971-3fa7-4d8c-80fc-a97a5080768e",
   "metadata": {},
   "outputs": [
    {
     "name": "stdout",
     "output_type": "stream",
     "text": [
      "ROC AUC Score for xyz_vaccine: 0.834407172091538\n",
      "ROC AUC Score for seasonal_vaccine: 0.8564177491422684\n",
      "Mean ROC AUC Score: 0.8454124606169032\n"
     ]
    }
   ],
   "source": [
    "# Calculate the ROC AUC score\n",
    "roc_auc_xyz = roc_auc_score(y_val['xyz_vaccine'], y_pred_proba_val_combined[:, 0])\n",
    "roc_auc_seasonal = roc_auc_score(y_val['seasonal_vaccine'], y_pred_proba_val_combined[:, 1])\n",
    "mean_roc_auc = (roc_auc_xyz + roc_auc_seasonal) / 2\n",
    "\n",
    "print(f\"ROC AUC Score for xyz_vaccine: {roc_auc_xyz}\")\n",
    "print(f\"ROC AUC Score for seasonal_vaccine: {roc_auc_seasonal}\")\n",
    "print(f\"Mean ROC AUC Score: {mean_roc_auc}\")\n",
    "\n"
   ]
  },
  {
   "cell_type": "code",
   "execution_count": 12,
   "id": "88ded75b-90e5-456e-a7a5-b1f9c94b911d",
   "metadata": {},
   "outputs": [],
   "source": [
    "# Predict probabilities on the test set\n",
    "y_pred_proba_test = model.predict_proba(X_test)\n",
    "y_pred_proba_test_combined = np.hstack([y_pred_proba_test[i][:, 1].reshape(-1, 1) for i in range(len(y_pred_proba_test))])\n",
    "\n"
   ]
  },
  {
   "cell_type": "code",
   "execution_count": 14,
   "id": "9213c2df-fce2-4f1a-94c3-4c15bfb678fc",
   "metadata": {},
   "outputs": [
    {
     "name": "stdout",
     "output_type": "stream",
     "text": [
      "The Submission File is created\n"
     ]
    }
   ],
   "source": [
    "# Prepare the submission file\n",
    "submission = pd.DataFrame({\n",
    "    'respondent_id': test_features['respondent_id'],\n",
    "    'xyz_vaccine': y_pred_proba_test_combined[:, 0],\n",
    "    'seasonal_vaccine': y_pred_proba_test_combined[:, 1]\n",
    "})\n",
    "\n",
    "submission.to_csv('submission.csv', index=False)\n",
    "print(\"The Submission File is created\")"
   ]
  },
  {
   "cell_type": "code",
   "execution_count": null,
   "id": "889b3281-2c3a-4c66-884e-b5716615a983",
   "metadata": {},
   "outputs": [],
   "source": []
  }
 ],
 "metadata": {
  "kernelspec": {
   "display_name": "Python 3 (ipykernel)",
   "language": "python",
   "name": "python3"
  },
  "language_info": {
   "codemirror_mode": {
    "name": "ipython",
    "version": 3
   },
   "file_extension": ".py",
   "mimetype": "text/x-python",
   "name": "python",
   "nbconvert_exporter": "python",
   "pygments_lexer": "ipython3",
   "version": "3.11.7"
  }
 },
 "nbformat": 4,
 "nbformat_minor": 5
}
